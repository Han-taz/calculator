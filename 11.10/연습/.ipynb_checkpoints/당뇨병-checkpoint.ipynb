{
 "cells": [
  {
   "cell_type": "code",
   "execution_count": 50,
   "id": "74ca2387-bb81-45d2-bf7f-a6678e3e6787",
   "metadata": {},
   "outputs": [],
   "source": [
    "import pandas as pd\n",
    "import numpy as np\n",
    "import pandas as pd\n",
    "import warnings\n",
    "warnings.filterwarnings(action='ignore')\n",
    "import pickle\n",
    "from sklearn.svm import SVC\n",
    "from sklearn.model_selection import train_test_split\n"
   ]
  },
  {
   "cell_type": "code",
   "execution_count": 4,
   "id": "f8ecf61e-4e13-4731-8696-1c5015bff61e",
   "metadata": {},
   "outputs": [],
   "source": [
    "df=pd.read_csv('diabetes.csv')"
   ]
  },
  {
   "cell_type": "code",
   "execution_count": 5,
   "id": "957d249d-76ab-4c7e-b651-00ed0c79a7cb",
   "metadata": {},
   "outputs": [
    {
     "name": "stdout",
     "output_type": "stream",
     "text": [
      "<class 'pandas.core.frame.DataFrame'>\n",
      "RangeIndex: 768 entries, 0 to 767\n",
      "Data columns (total 9 columns):\n",
      " #   Column                    Non-Null Count  Dtype  \n",
      "---  ------                    --------------  -----  \n",
      " 0   Pregnancies               768 non-null    int64  \n",
      " 1   Glucose                   768 non-null    int64  \n",
      " 2   BloodPressure             768 non-null    int64  \n",
      " 3   SkinThickness             768 non-null    int64  \n",
      " 4   Insulin                   768 non-null    int64  \n",
      " 5   BMI                       768 non-null    float64\n",
      " 6   DiabetesPedigreeFunction  768 non-null    float64\n",
      " 7   Age                       768 non-null    int64  \n",
      " 8   Outcome                   768 non-null    int64  \n",
      "dtypes: float64(2), int64(7)\n",
      "memory usage: 54.1 KB\n"
     ]
    }
   ],
   "source": [
    "df.info()"
   ]
  },
  {
   "cell_type": "code",
   "execution_count": 6,
   "id": "cf19f5dc-cacf-4bd6-bbe2-149b244139bb",
   "metadata": {},
   "outputs": [
    {
     "data": {
      "text/plain": [
       "Index(['Pregnancies', 'Glucose', 'BloodPressure', 'SkinThickness', 'Insulin',\n",
       "       'BMI', 'DiabetesPedigreeFunction', 'Age', 'Outcome'],\n",
       "      dtype='object')"
      ]
     },
     "execution_count": 6,
     "metadata": {},
     "output_type": "execute_result"
    }
   ],
   "source": [
    "df.columns"
   ]
  },
  {
   "cell_type": "code",
   "execution_count": 7,
   "id": "5e880195-8f61-4a41-b277-d923e1d59b53",
   "metadata": {},
   "outputs": [],
   "source": [
    "col_list=['Glucose', 'BloodPressure', 'SkinThickness', 'Insulin','BMI']"
   ]
  },
  {
   "cell_type": "code",
   "execution_count": 8,
   "id": "55021a00-200d-47bd-aaea-0111453d52d3",
   "metadata": {},
   "outputs": [],
   "source": [
    "for col in col_list:\n",
    "    df[col]=np.where(df[col]==0,np.NaN,df[col])"
   ]
  },
  {
   "cell_type": "code",
   "execution_count": 10,
   "id": "36ef2432-7714-4e7f-b924-7cd19dcd6255",
   "metadata": {},
   "outputs": [
    {
     "data": {
      "text/plain": [
       "Pregnancies                   0\n",
       "Glucose                       5\n",
       "BloodPressure                35\n",
       "SkinThickness               227\n",
       "Insulin                     374\n",
       "BMI                          11\n",
       "DiabetesPedigreeFunction      0\n",
       "Age                           0\n",
       "Outcome                       0\n",
       "dtype: int64"
      ]
     },
     "execution_count": 10,
     "metadata": {},
     "output_type": "execute_result"
    }
   ],
   "source": [
    "df.isnull().sum()"
   ]
  },
  {
   "cell_type": "code",
   "execution_count": 11,
   "id": "2664e223-2c2e-4ea3-a9c3-029b0ebfdbf0",
   "metadata": {},
   "outputs": [],
   "source": [
    "def ageRange(age):\n",
    "    if 21<= age <30:\n",
    "        return 1\n",
    "    elif 31<= age <40:\n",
    "        return 2\n",
    "    elif 41<= age <50:\n",
    "        return 3\n",
    "    elif 51<= age <60:\n",
    "        return 4\n",
    "    elif 61<= age <70:\n",
    "        return 5\n",
    "    else:\n",
    "        return 6\n",
    "    "
   ]
  },
  {
   "cell_type": "code",
   "execution_count": 12,
   "id": "12b6946c-7f18-44fa-9d3e-f6bfc3185dd8",
   "metadata": {},
   "outputs": [
    {
     "data": {
      "text/plain": [
       "['Glucose', 'BloodPressure', 'SkinThickness', 'Insulin', 'BMI']"
      ]
     },
     "execution_count": 12,
     "metadata": {},
     "output_type": "execute_result"
    }
   ],
   "source": [
    "col_list"
   ]
  },
  {
   "cell_type": "code",
   "execution_count": 15,
   "id": "5087f213-8afb-436d-a608-253eb2820e6d",
   "metadata": {},
   "outputs": [],
   "source": [
    "df['Age2']=df[\"Age\"].apply(ageRange)"
   ]
  },
  {
   "cell_type": "code",
   "execution_count": 42,
   "id": "0de053e6-2d3b-48b7-bca9-ccefd2ddccf4",
   "metadata": {},
   "outputs": [
    {
     "data": {
      "text/plain": [
       "0        NaN\n",
       "1      123.0\n",
       "2      123.0\n",
       "3      139.0\n",
       "4      123.0\n",
       "       ...  \n",
       "763      NaN\n",
       "764    139.0\n",
       "765      NaN\n",
       "766      NaN\n",
       "767    139.0\n",
       "Name: Glucose, Length: 768, dtype: float64"
      ]
     },
     "execution_count": 42,
     "metadata": {},
     "output_type": "execute_result"
    }
   ],
   "source": [
    "df['Glucose']"
   ]
  },
  {
   "cell_type": "code",
   "execution_count": 44,
   "id": "420bbbce-5932-4256-8f3e-7ef01f776963",
   "metadata": {},
   "outputs": [
    {
     "data": {
      "text/plain": [
       "6"
      ]
     },
     "execution_count": 44,
     "metadata": {},
     "output_type": "execute_result"
    }
   ],
   "source": [
    "len(df.groupby('Age2')['Glucose'].median())"
   ]
  },
  {
   "cell_type": "code",
   "execution_count": 45,
   "id": "84fb049e-8f02-45ac-808b-7f693c5f2e4e",
   "metadata": {},
   "outputs": [
    {
     "data": {
      "text/plain": [
       "0        NaN\n",
       "1      123.0\n",
       "2      123.0\n",
       "3      139.0\n",
       "4      123.0\n",
       "       ...  \n",
       "763      NaN\n",
       "764    139.0\n",
       "765      NaN\n",
       "766      NaN\n",
       "767    139.0\n",
       "Name: Glucose, Length: 768, dtype: float64"
      ]
     },
     "execution_count": 45,
     "metadata": {},
     "output_type": "execute_result"
    }
   ],
   "source": [
    "df.Glucose.fillna(df.groupby('Age2')['Glucose'].transform('median'))"
   ]
  },
  {
   "cell_type": "code",
   "execution_count": 25,
   "id": "9de56255-3086-4a37-a406-41e6ad800ff1",
   "metadata": {},
   "outputs": [
    {
     "data": {
      "text/plain": [
       "array([109., 123., 122., 139., 139., 124.])"
      ]
     },
     "execution_count": 25,
     "metadata": {},
     "output_type": "execute_result"
    }
   ],
   "source": [
    "df.groupby('Age2')['Glucose'].median().values"
   ]
  },
  {
   "cell_type": "code",
   "execution_count": 28,
   "id": "69b26eca-7f48-432a-80f6-a39fb96656f9",
   "metadata": {},
   "outputs": [],
   "source": [
    "dict_tot={}\n",
    "for col in col_list:\n",
    "    index=df.groupby('Age2')[col].median().index\n",
    "    value=df.groupby('Age2')[col].median().values\n",
    "    temp={}\n",
    "    for i in range(len(index)):\n",
    "        temp[index[i]]=value[i]\n",
    "        dict_tot[col]=temp #### append는 리스트에서만 사용가능 딕셔너리에서는 바로 key=value로 입력가능"
   ]
  },
  {
   "cell_type": "code",
   "execution_count": 27,
   "id": "16e2c981-70c9-4e71-8f3b-b3c650851e34",
   "metadata": {},
   "outputs": [
    {
     "data": {
      "text/plain": [
       "{'Glucose': {1: 109.0, 2: 123.0, 3: 122.0, 4: 139.0, 5: 139.0, 6: 124.0},\n",
       " 'BloodPressure': {1: 68.0, 2: 74.0, 3: 78.0, 4: 78.0, 5: 79.0, 6: 74.0},\n",
       " 'SkinThickness': {1: 27.0, 2: 32.0, 3: 31.0, 4: 28.5, 5: 33.0, 6: 30.0},\n",
       " 'Insulin': {1: 105.0, 2: 140.0, 3: 131.0, 4: 207.0, 5: 185.0, 6: 144.0},\n",
       " 'BMI': {1: 31.6, 2: 32.0, 3: 34.0, 4: 33.3, 5: 28.8, 6: 32.3}}"
      ]
     },
     "execution_count": 27,
     "metadata": {},
     "output_type": "execute_result"
    }
   ],
   "source": [
    "dict_tot"
   ]
  },
  {
   "cell_type": "code",
   "execution_count": 29,
   "id": "235d3610-89d5-4e62-b430-f2c1a8296e7b",
   "metadata": {},
   "outputs": [],
   "source": [
    "with open('dict_tot_train.pkl','wb') as f:\n",
    "    pickle.dump(dict_tot,f)"
   ]
  },
  {
   "cell_type": "code",
   "execution_count": 46,
   "id": "27537e7b-0e13-45cc-94e6-fd1ca08fbcfa",
   "metadata": {},
   "outputs": [
    {
     "data": {
      "text/plain": [
       "228"
      ]
     },
     "execution_count": 46,
     "metadata": {},
     "output_type": "execute_result"
    }
   ],
   "source": [
    "df['Glucose'].isnull().sum()"
   ]
  },
  {
   "cell_type": "code",
   "execution_count": 47,
   "id": "0bc9ecd1-3a07-4f42-8053-ee49035f6b7a",
   "metadata": {},
   "outputs": [],
   "source": [
    "with open('dict_tot_train.pkl','rb')as f:#### 저장한거 불러오기\n",
    "    dict_tot=pickle.load(f)"
   ]
  },
  {
   "cell_type": "code",
   "execution_count": 57,
   "id": "d20ddfa5-bbdb-47aa-b919-7b9d44a71f9c",
   "metadata": {},
   "outputs": [],
   "source": [
    "with open('diabate_model_train.pkl','wb')as f:\n",
    "    pickle.dump(model,f)"
   ]
  },
  {
   "cell_type": "code",
   "execution_count": 52,
   "id": "8e49009e-b5da-4e0b-a360-fd93ca7865ec",
   "metadata": {},
   "outputs": [],
   "source": [
    "x=df.drop(['Outcome','Age2'],axis=1)\n",
    "y=df['Outcome']"
   ]
  },
  {
   "cell_type": "code",
   "execution_count": 54,
   "id": "136e6794-f844-4f12-babe-7b7d09e6fbc8",
   "metadata": {},
   "outputs": [],
   "source": [
    "x_train,x_test,y_train,y_test=train_test_split(x,y,test_size=0.2,random_state=0)"
   ]
  },
  {
   "cell_type": "code",
   "execution_count": 55,
   "id": "e02b9238-a222-4682-8991-df1d43c5d40f",
   "metadata": {},
   "outputs": [],
   "source": [
    "model=SVC()"
   ]
  },
  {
   "cell_type": "code",
   "execution_count": 59,
   "id": "07210ef2-9428-439b-82e1-ef553271c0a5",
   "metadata": {},
   "outputs": [],
   "source": [
    "with open('diabate_model_train.pkl','wb')as f:\n",
    "    pickle.dump(model,f)"
   ]
  },
  {
   "cell_type": "code",
   "execution_count": 58,
   "id": "fd6b1b6a-73a7-4e0f-8c11-4cb9f7f2650f",
   "metadata": {},
   "outputs": [],
   "source": [
    "#model.fit(x_train,y_train)"
   ]
  },
  {
   "cell_type": "code",
   "execution_count": 60,
   "id": "a68f188a-1f56-4a06-a1e2-8509758ab6de",
   "metadata": {},
   "outputs": [],
   "source": [
    "for col in col_list:\n",
    "        df.loc[0,col]=dict_tot[col][df.loc[0]['Age2']]"
   ]
  },
  {
   "cell_type": "code",
   "execution_count": 61,
   "id": "3fd92c37-7834-40cf-aea9-75dcf75eb332",
   "metadata": {},
   "outputs": [
    {
     "data": {
      "text/html": [
       "<div>\n",
       "<style scoped>\n",
       "    .dataframe tbody tr th:only-of-type {\n",
       "        vertical-align: middle;\n",
       "    }\n",
       "\n",
       "    .dataframe tbody tr th {\n",
       "        vertical-align: top;\n",
       "    }\n",
       "\n",
       "    .dataframe thead th {\n",
       "        text-align: right;\n",
       "    }\n",
       "</style>\n",
       "<table border=\"1\" class=\"dataframe\">\n",
       "  <thead>\n",
       "    <tr style=\"text-align: right;\">\n",
       "      <th></th>\n",
       "      <th>Pregnancies</th>\n",
       "      <th>Glucose</th>\n",
       "      <th>BloodPressure</th>\n",
       "      <th>SkinThickness</th>\n",
       "      <th>Insulin</th>\n",
       "      <th>BMI</th>\n",
       "      <th>DiabetesPedigreeFunction</th>\n",
       "      <th>Age</th>\n",
       "      <th>Outcome</th>\n",
       "      <th>Age2</th>\n",
       "    </tr>\n",
       "  </thead>\n",
       "  <tbody>\n",
       "    <tr>\n",
       "      <th>0</th>\n",
       "      <td>6</td>\n",
       "      <td>124.0</td>\n",
       "      <td>74.0</td>\n",
       "      <td>30.0</td>\n",
       "      <td>144.0</td>\n",
       "      <td>32.3</td>\n",
       "      <td>0.627</td>\n",
       "      <td>50</td>\n",
       "      <td>1</td>\n",
       "      <td>6</td>\n",
       "    </tr>\n",
       "    <tr>\n",
       "      <th>1</th>\n",
       "      <td>1</td>\n",
       "      <td>123.0</td>\n",
       "      <td>66.0</td>\n",
       "      <td>29.0</td>\n",
       "      <td>NaN</td>\n",
       "      <td>26.6</td>\n",
       "      <td>0.351</td>\n",
       "      <td>31</td>\n",
       "      <td>0</td>\n",
       "      <td>2</td>\n",
       "    </tr>\n",
       "    <tr>\n",
       "      <th>2</th>\n",
       "      <td>8</td>\n",
       "      <td>123.0</td>\n",
       "      <td>64.0</td>\n",
       "      <td>NaN</td>\n",
       "      <td>NaN</td>\n",
       "      <td>23.3</td>\n",
       "      <td>0.672</td>\n",
       "      <td>32</td>\n",
       "      <td>1</td>\n",
       "      <td>2</td>\n",
       "    </tr>\n",
       "    <tr>\n",
       "      <th>3</th>\n",
       "      <td>1</td>\n",
       "      <td>139.0</td>\n",
       "      <td>66.0</td>\n",
       "      <td>23.0</td>\n",
       "      <td>94.0</td>\n",
       "      <td>28.1</td>\n",
       "      <td>0.167</td>\n",
       "      <td>21</td>\n",
       "      <td>0</td>\n",
       "      <td>1</td>\n",
       "    </tr>\n",
       "    <tr>\n",
       "      <th>4</th>\n",
       "      <td>0</td>\n",
       "      <td>123.0</td>\n",
       "      <td>40.0</td>\n",
       "      <td>35.0</td>\n",
       "      <td>168.0</td>\n",
       "      <td>43.1</td>\n",
       "      <td>2.288</td>\n",
       "      <td>33</td>\n",
       "      <td>1</td>\n",
       "      <td>2</td>\n",
       "    </tr>\n",
       "    <tr>\n",
       "      <th>...</th>\n",
       "      <td>...</td>\n",
       "      <td>...</td>\n",
       "      <td>...</td>\n",
       "      <td>...</td>\n",
       "      <td>...</td>\n",
       "      <td>...</td>\n",
       "      <td>...</td>\n",
       "      <td>...</td>\n",
       "      <td>...</td>\n",
       "      <td>...</td>\n",
       "    </tr>\n",
       "    <tr>\n",
       "      <th>763</th>\n",
       "      <td>10</td>\n",
       "      <td>NaN</td>\n",
       "      <td>76.0</td>\n",
       "      <td>48.0</td>\n",
       "      <td>180.0</td>\n",
       "      <td>32.9</td>\n",
       "      <td>0.171</td>\n",
       "      <td>63</td>\n",
       "      <td>0</td>\n",
       "      <td>5</td>\n",
       "    </tr>\n",
       "    <tr>\n",
       "      <th>764</th>\n",
       "      <td>2</td>\n",
       "      <td>139.0</td>\n",
       "      <td>70.0</td>\n",
       "      <td>27.0</td>\n",
       "      <td>NaN</td>\n",
       "      <td>36.8</td>\n",
       "      <td>0.340</td>\n",
       "      <td>27</td>\n",
       "      <td>0</td>\n",
       "      <td>1</td>\n",
       "    </tr>\n",
       "    <tr>\n",
       "      <th>765</th>\n",
       "      <td>5</td>\n",
       "      <td>NaN</td>\n",
       "      <td>72.0</td>\n",
       "      <td>23.0</td>\n",
       "      <td>112.0</td>\n",
       "      <td>26.2</td>\n",
       "      <td>0.245</td>\n",
       "      <td>30</td>\n",
       "      <td>0</td>\n",
       "      <td>6</td>\n",
       "    </tr>\n",
       "    <tr>\n",
       "      <th>766</th>\n",
       "      <td>1</td>\n",
       "      <td>NaN</td>\n",
       "      <td>60.0</td>\n",
       "      <td>NaN</td>\n",
       "      <td>NaN</td>\n",
       "      <td>30.1</td>\n",
       "      <td>0.349</td>\n",
       "      <td>47</td>\n",
       "      <td>1</td>\n",
       "      <td>3</td>\n",
       "    </tr>\n",
       "    <tr>\n",
       "      <th>767</th>\n",
       "      <td>1</td>\n",
       "      <td>139.0</td>\n",
       "      <td>70.0</td>\n",
       "      <td>31.0</td>\n",
       "      <td>NaN</td>\n",
       "      <td>30.4</td>\n",
       "      <td>0.315</td>\n",
       "      <td>23</td>\n",
       "      <td>0</td>\n",
       "      <td>1</td>\n",
       "    </tr>\n",
       "  </tbody>\n",
       "</table>\n",
       "<p>768 rows × 10 columns</p>\n",
       "</div>"
      ],
      "text/plain": [
       "     Pregnancies  Glucose  BloodPressure  SkinThickness  Insulin   BMI  \\\n",
       "0              6    124.0           74.0           30.0    144.0  32.3   \n",
       "1              1    123.0           66.0           29.0      NaN  26.6   \n",
       "2              8    123.0           64.0            NaN      NaN  23.3   \n",
       "3              1    139.0           66.0           23.0     94.0  28.1   \n",
       "4              0    123.0           40.0           35.0    168.0  43.1   \n",
       "..           ...      ...            ...            ...      ...   ...   \n",
       "763           10      NaN           76.0           48.0    180.0  32.9   \n",
       "764            2    139.0           70.0           27.0      NaN  36.8   \n",
       "765            5      NaN           72.0           23.0    112.0  26.2   \n",
       "766            1      NaN           60.0            NaN      NaN  30.1   \n",
       "767            1    139.0           70.0           31.0      NaN  30.4   \n",
       "\n",
       "     DiabetesPedigreeFunction  Age  Outcome  Age2  \n",
       "0                       0.627   50        1     6  \n",
       "1                       0.351   31        0     2  \n",
       "2                       0.672   32        1     2  \n",
       "3                       0.167   21        0     1  \n",
       "4                       2.288   33        1     2  \n",
       "..                        ...  ...      ...   ...  \n",
       "763                     0.171   63        0     5  \n",
       "764                     0.340   27        0     1  \n",
       "765                     0.245   30        0     6  \n",
       "766                     0.349   47        1     3  \n",
       "767                     0.315   23        0     1  \n",
       "\n",
       "[768 rows x 10 columns]"
      ]
     },
     "execution_count": 61,
     "metadata": {},
     "output_type": "execute_result"
    }
   ],
   "source": [
    "df"
   ]
  },
  {
   "cell_type": "code",
   "execution_count": null,
   "id": "a2382f8d-721b-46fb-a84a-19f5583a88e8",
   "metadata": {},
   "outputs": [],
   "source": []
  }
 ],
 "metadata": {
  "kernelspec": {
   "display_name": "Python 3 (ipykernel)",
   "language": "python",
   "name": "python3"
  },
  "language_info": {
   "codemirror_mode": {
    "name": "ipython",
    "version": 3
   },
   "file_extension": ".py",
   "mimetype": "text/x-python",
   "name": "python",
   "nbconvert_exporter": "python",
   "pygments_lexer": "ipython3",
   "version": "3.9.12"
  }
 },
 "nbformat": 4,
 "nbformat_minor": 5
}
